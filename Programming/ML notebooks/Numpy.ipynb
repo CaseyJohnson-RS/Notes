{
 "cells": [
  {
   "cell_type": "markdown",
   "id": "ad661491",
   "metadata": {},
   "source": [
    "# NLP\n",
    "## Basic initialize and use\n",
    "**Import**"
   ]
  },
  {
   "cell_type": "code",
   "execution_count": 2,
   "id": "73a6eca9",
   "metadata": {},
   "outputs": [
    {
     "name": "stdout",
     "output_type": "stream",
     "text": [
      "Requirement already satisfied: numpy in c:\\users\\casey\\anaconda3\\lib\\site-packages (1.24.3)\n"
     ]
    }
   ],
   "source": [
    "!pip install numpy\n",
    "import numpy as np"
   ]
  },
  {
   "cell_type": "code",
   "execution_count": 35,
   "id": "78cb45f2",
   "metadata": {},
   "outputs": [
    {
     "name": "stdout",
     "output_type": "stream",
     "text": [
      "a: \n",
      " [1 2 3]  |  <class 'numpy.ndarray'> \n",
      "\n",
      "Basic type:  int32 \n",
      "\n",
      "a: \n",
      " [[1. 2. 3.]\n",
      " [4. 5. 6.]]  |  <class 'numpy.ndarray'> \n",
      "\n",
      "a[1,2]: \t 6.0\n"
     ]
    }
   ],
   "source": [
    "a = np.array([1,2,3])\n",
    "print(\"a: \\n\",a,' | ',type(a),\"\\n\")\n",
    "\n",
    "print(\"Basic type: \", a.dtype, \"\\n\")\n",
    "\n",
    "a = np.array([[1,2,3],[4,5,6]], float)\n",
    "print(\"a: \\n\", a,' | ',type(a), \"\\n\")\n",
    "\n",
    "print(\"a[1,2]: \\t\",a[1,2])"
   ]
  },
  {
   "cell_type": "markdown",
   "id": "f8f02280",
   "metadata": {},
   "source": [
    "**Initialization**"
   ]
  },
  {
   "cell_type": "code",
   "execution_count": 22,
   "id": "f582c472",
   "metadata": {},
   "outputs": [
    {
     "name": "stdout",
     "output_type": "stream",
     "text": [
      "zeros(10): \t\t [0. 0. 0. 0. 0. 0. 0. 0. 0. 0.]\n",
      "ones(8): \t\t [1. 1. 1. 1. 1. 1. 1. 1.]\n",
      "empty(4): \t\t [-1.59946326e+131 -5.96651104e-097  8.75523906e-151  1.55441447e-095]\n",
      "arange(4): \t\t [0 1 2 3]\n",
      "\n",
      "arange(2,9,1): \t\t [2 4 6 8]\n",
      "linespace(0,10,5): \t [ 0.   2.5  5.   7.5 10. ]\n"
     ]
    }
   ],
   "source": [
    "a = np.zeros(10)        # np.zeros(amount)\n",
    "b = np.ones(8)          # np.ones(amount)\n",
    "c = np.empty(4)         # np.empty(amount) Initialize with trash\n",
    "d = np.arange(4)        # np.arange(amount)\n",
    "\n",
    "e = np.arange(2,9,2)    # np.arange(from,to,step)\n",
    "f = np.linspace(0,10,5) # np.linspace(from,to,amount)\n",
    "\n",
    "print(\"zeros(10): \\t\\t\",a)\n",
    "print(\"ones(8): \\t\\t\", b)\n",
    "print(\"empty(4): \\t\\t\", c)\n",
    "print(\"arange(4): \\t\\t\", d)\n",
    "print()\n",
    "print(\"arange(2,9,1): \\t\\t\", e)\n",
    "print(\"linespace(0,10,5): \\t\", f)"
   ]
  },
  {
   "cell_type": "markdown",
   "id": "799aa6fa",
   "metadata": {},
   "source": [
    "**Random**"
   ]
  },
  {
   "cell_type": "code",
   "execution_count": 26,
   "id": "72fa9d2a",
   "metadata": {},
   "outputs": [
    {
     "name": "stdout",
     "output_type": "stream",
     "text": [
      "a: \n",
      " [[4 3 2 1]\n",
      " [1 0 0 0]]\n",
      "rnd: \n",
      " [0.81327024 0.91275558 0.60663578 0.72949656 0.54362499]\n"
     ]
    }
   ],
   "source": [
    "# Object of random\n",
    "rng = np.random.default_rng(0)\n",
    "\n",
    "a = rng.integers(5, size=(2,4))     # integers(amount, size=(n1,n2...nn))\n",
    "rnd = rng.random(5)                 # random(amount) -> 5 nums from 0 to 1\n",
    "\n",
    "print(\"a: \\n\", a)\n",
    "print(\"rnd: \\n\", rnd)"
   ]
  },
  {
   "cell_type": "markdown",
   "id": "bce0395c",
   "metadata": {},
   "source": [
    "**Multidimensional arrays**"
   ]
  },
  {
   "cell_type": "code",
   "execution_count": 37,
   "id": "493fbbb2",
   "metadata": {},
   "outputs": [
    {
     "name": "stdout",
     "output_type": "stream",
     "text": [
      "a: \n",
      " [[0. 0. 0.]\n",
      " [0. 0. 0.]]\n",
      "b: \n",
      " [[1. 1. 1.]\n",
      " [1. 1. 1.]]\n",
      "c: \n",
      " [[0.69248928 0.46106074 0.86570089]\n",
      " [0.12417442 0.83037156 0.72323587]]\n"
     ]
    }
   ],
   "source": [
    "a = np.zeros((2,3))\n",
    "b = np.ones((2,3))\n",
    "c = np.random.random((2,3)) # = rng.random((2,3))\n",
    "\n",
    "print(\"a: \\n\", a)\n",
    "print(\"b: \\n\", b)\n",
    "print(\"c: \\n\", c)"
   ]
  },
  {
   "cell_type": "markdown",
   "id": "38066090",
   "metadata": {},
   "source": [
    "**Add, remove, sort**"
   ]
  },
  {
   "cell_type": "code",
   "execution_count": 52,
   "id": "98aae8b7",
   "metadata": {},
   "outputs": [
    {
     "name": "stdout",
     "output_type": "stream",
     "text": [
      "Sorted: a\n",
      " [1 2 3 4 5 6 7 8] \n",
      "\n",
      "Get indexes from another array: b\n",
      " [2 3 4 5] \n",
      "\n",
      "Add elements: np.append(a,b) \n",
      " [1 2 3 4 5 6 7 8 2 3 4 5] \n",
      "\n",
      "Concatenate arrays by default axis 0: a and b\n",
      " [[1 2]\n",
      " [3 4]\n",
      " [5 6]\n",
      " [7 8]] \n",
      "\n",
      "Concatenate arrays by axis 1: a and b\n",
      " [[1 2 5 6]\n",
      " [3 4 7 8]] \n",
      "\n"
     ]
    }
   ],
   "source": [
    "a = np.array([2, 1, 5, 3, 7, 4, 6, 8])\n",
    "a = np.sort(a)\n",
    "\n",
    "print(\"Sorted: a\\n\", a, \"\\n\")\n",
    "\n",
    "b = a[[1,2,3,4]]\n",
    "\n",
    "print(\"Get indexes from another array: b\\n\", b,\"\\n\")\n",
    "\n",
    "c = np.append(a,b)\n",
    "\n",
    "print(\"Add elements: np.append(a,b) \\n\",c,\"\\n\")\n",
    "\n",
    "a = np.array([[1,2],[3,4]])\n",
    "b = np.array([[5,6],[7,8]])\n",
    "c = np.concatenate((a,b))\n",
    "\n",
    "print(\"Concatenate arrays by default axis 0: a and b\\n\",c,\"\\n\")\n",
    "\n",
    "c = np.concatenate((a,b),axis=1)\n",
    "\n",
    "print(\"Concatenate arrays by axis 1: a and b\\n\",c,\"\\n\")"
   ]
  },
  {
   "cell_type": "markdown",
   "id": "65737294",
   "metadata": {},
   "source": [
    "**Copy arrays**"
   ]
  },
  {
   "cell_type": "code",
   "execution_count": 55,
   "id": "a4870e23",
   "metadata": {},
   "outputs": [
    {
     "name": "stdout",
     "output_type": "stream",
     "text": [
      "Changed array а [0 2 3]\n",
      "Changed array b [0 2 3]  <-- changed by link\n",
      "Changed array c [1 2 3]  <-- not changed 'cause it's a copy\n"
     ]
    }
   ],
   "source": [
    "a = np.array([1, 2, 3])\n",
    "b = a\n",
    "c =  a.copy()\n",
    "\n",
    "# меняем 0й элемент\n",
    "a[0] = 0\n",
    "\n",
    "print(f'Changed array а {a}')\n",
    "print(f'Changed array b {b}  <-- changed by link')\n",
    "print(f'Changed array c {c}  <-- not changed \\'cause it\\'s a copy')"
   ]
  },
  {
   "cell_type": "markdown",
   "id": "12806c0e",
   "metadata": {},
   "source": [
    "**Base slicing**"
   ]
  },
  {
   "cell_type": "code",
   "execution_count": 64,
   "id": "32064834",
   "metadata": {},
   "outputs": [
    {
     "name": "stdout",
     "output_type": "stream",
     "text": [
      "Base array: \n",
      " [[1 2 3]\n",
      " [4 5 6]] \n",
      "\n",
      "Take columns with step 2: \n",
      " [[1 3]\n",
      " [4 6]] \n",
      "\n",
      "Take from second row elements with step 2: \n",
      " [4 6] \n",
      "\n",
      "Take from second row elements from index 1 to index 2: \n",
      " [5 6] \n",
      "\n"
     ]
    }
   ],
   "source": [
    "a = np.array([[1, 2, 3], [4, 5, 6]])\n",
    "\n",
    "print(\"Base array: \\n\", a, \"\\n\")\n",
    "\n",
    "slc = a[::, ::2]\n",
    "\n",
    "print(\"Take columns with step 2: \\n\", slc, \"\\n\")\n",
    "\n",
    "slc = a[1,::2]\n",
    "\n",
    "print(\"Take from second row elements with step 2: \\n\", slc,\"\\n\")\n",
    "\n",
    "slc = a[1, 1:3]\n",
    "\n",
    "print(\"Take from second row elements from index 1 to index 2: \\n\",slc,\"\\n\")"
   ]
  },
  {
   "cell_type": "markdown",
   "id": "b6269daa",
   "metadata": {},
   "source": [
    "**Advanced slicing (by condition)**"
   ]
  },
  {
   "cell_type": "code",
   "execution_count": 82,
   "id": "1f898ada",
   "metadata": {},
   "outputs": [
    {
     "name": "stdout",
     "output_type": "stream",
     "text": [
      "Base array: \n",
      " [1 2 3 4 5 6 7 8] \n",
      "\n",
      "Get condition array (element < 5): \n",
      " [ True  True  True  True False False False False] \n",
      "\n",
      "With condition array we can take sutable elements: \n",
      " [1 2 3 4] \n",
      "\n",
      "Multidimensional array:\n",
      " [[ 1  2  3  4]\n",
      " [ 5  6  7  8]\n",
      " [ 9 10 11 12]] \n",
      "\n",
      "Result use condition on multidimensional array (elem >= 5):\n",
      " [ 5  6  7  8  9 10 11 12] \n",
      "\n",
      "You can combine conditions ((elem >= 5) & (elem % 2 == 0)):\n",
      " [ 6  8 10 12] \n",
      "\n",
      "NB: \tand = & \tor = |\n",
      "\n",
      "We can get coords of elements which sutes to condition: \n",
      "X:  [0 0 1 1 2 2] \n",
      "Y:  [0 2 0 2 0 2] \n",
      "\n",
      "More convinient way to vizualise:\n",
      "0.  (0,0)\n",
      "1.  (0,2)\n",
      "2.  (1,0)\n",
      "3.  (1,2)\n",
      "4.  (2,0)\n",
      "5.  (2,2)\n"
     ]
    }
   ],
   "source": [
    "a = np.array([1 , 2, 3, 4, 5, 6, 7, 8])\n",
    "\n",
    "print(\"Base array: \\n\",a,\"\\n\")\n",
    "\n",
    "conarr = a < 5\n",
    "\n",
    "print(\"Get condition array (element < 5): \\n\",conarr,\"\\n\")\n",
    "\n",
    "resarr = a[conarr]\n",
    "\n",
    "print(\"With condition array we can take sutable elements: \\n\", resarr,\"\\n\")\n",
    "\n",
    "a = np.array([[1 , 2, 3, 4], [5, 6, 7, 8], [9, 10, 11, 12]])\n",
    "\n",
    "print(\"Multidimensional array:\\n\",a,\"\\n\")\n",
    "\n",
    "conarr = a >= 5\n",
    "resarr = a[conarr]\n",
    "\n",
    "print(\"Result use condition on multidimensional array (elem >= 5):\\n\",resarr,\"\\n\")\n",
    "\n",
    "conarr = (a >= 5) & (a % 2 == 0)\n",
    "resarr = a[conarr]\n",
    "\n",
    "print(\"You can combine conditions ((elem >= 5) & (elem % 2 == 0)):\\n\",resarr,\"\\n\")\n",
    "print(\"NB: \\tand = & \\tor = |\\n\")\n",
    "\n",
    "coords = np.nonzero(a % 2 == 1)\n",
    "\n",
    "print(\"We can get coords of elements which sutes to condition: \\nX: \",coords[0],\"\\nY: \",coords[1],\"\\n\")\n",
    "\n",
    "print(\"More convinient way to vizualise:\")\n",
    "for i in range(len(coords[0])):\n",
    "    print(f\"{i}.\",f\" ({coords[0][i]},{coords[1][i]})\")"
   ]
  },
  {
   "cell_type": "markdown",
   "id": "cf4ec630",
   "metadata": {},
   "source": [
    "**Element-wise operations**"
   ]
  },
  {
   "cell_type": "code",
   "execution_count": 92,
   "id": "ac39323b",
   "metadata": {},
   "outputs": [
    {
     "name": "stdout",
     "output_type": "stream",
     "text": [
      "Base arrays A and B:\n",
      "A = [1 2] \n",
      "B = [1 1] \n",
      "\n",
      "A+B:  [2 3] \n",
      "\n",
      "A*B:  [1 2] \n",
      "\n",
      "A-B:  [0 1] \n",
      "\n",
      "A/B:  [1. 2.] \n",
      "\n",
      "A+2:  [3 4] \n",
      "\n",
      "B*5:  [5 5] \n",
      "\n"
     ]
    }
   ],
   "source": [
    "A = np.array([1, 2])\n",
    "B = np.ones(2, dtype=int)\n",
    "\n",
    "print(\"Base arrays A and B:\\nA =\",A,\"\\nB =\",B,\"\\n\")\n",
    "\n",
    "print(\"A+B: \", A+B,\"\\n\")\n",
    "print(\"A*B: \", A*B,\"\\n\")\n",
    "print(\"A-B: \", A-B,\"\\n\")\n",
    "print(\"A/B: \", A/B,\"\\n\")\n",
    "print(\"A+2: \", A+2,\"\\n\")\n",
    "print(\"B*5: \", B*5,\"\\n\")"
   ]
  },
  {
   "cell_type": "markdown",
   "id": "bbd999b7",
   "metadata": {},
   "source": [
    "**Some usefull functions**"
   ]
  },
  {
   "cell_type": "code",
   "execution_count": 5,
   "id": "c32adb90",
   "metadata": {},
   "outputs": [
    {
     "name": "stdout",
     "output_type": "stream",
     "text": [
      "Multidimensional array:\n",
      " [[ 1  2  3  4]\n",
      " [ 5  6  7  8]\n",
      " [ 9 10 11 12]] \n",
      "\n",
      "Sum of elements:  78 \n",
      "\n",
      "Sum by main axis 0 (rows): \n",
      " [15 18 21 24] \n",
      "\n",
      "Sum by second axis 1 (columns): \n",
      " [10 26 42] \n",
      "\n",
      "Maximum in array:  12 \n",
      "\n",
      "Minimum in array:  1 \n",
      "\n",
      "Maximum in every array column:  [ 9 10 11 12] \n",
      "\n",
      "Maximum in every array row:  [ 4  8 12] \n",
      "\n",
      "Minimum in every array column:  [1 2 3 4] \n",
      "\n",
      "Minimum in every array row:  [1 5 9] \n",
      "\n",
      "Similar using have functions:\n",
      "\tstd - standard deviation\n",
      "\tmean - average\n",
      "\n",
      "Standart deviation by columns: \n",
      " [3.26598632 3.26598632 3.26598632 3.26598632] \n",
      "\n",
      "Average by rows: \n",
      " [ 2.5  6.5 10.5] \n",
      "\n",
      "Cumulative sum of A: \n",
      " [ 1  3  6 10 15 21 28 36 45 55 66 78]\n"
     ]
    }
   ],
   "source": [
    "a = np.array([[1 , 2, 3, 4], [5, 6, 7, 8], [9, 10, 11, 12]])\n",
    "\n",
    "print(\"Multidimensional array:\\n\",a,\"\\n\")\n",
    "\n",
    "res = a.sum()\n",
    "\n",
    "print(\"Sum of elements: \", res,\"\\n\")\n",
    "\n",
    "res = a.sum(axis=0)\n",
    "\n",
    "print(\"Sum by main axis 0 (rows): \\n\",res,\"\\n\")\n",
    "\n",
    "res = a.sum(axis=1)\n",
    "\n",
    "print(\"Sum by second axis 1 (columns): \\n\",res,\"\\n\")\n",
    "\n",
    "res = a.max()\n",
    "\n",
    "print(\"Maximum in array: \",res,\"\\n\")\n",
    "\n",
    "res = a.min()\n",
    "\n",
    "print(\"Minimum in array: \",res,\"\\n\")\n",
    "\n",
    "res = a.max(axis=0)\n",
    "\n",
    "print(\"Maximum in every array column: \",res,\"\\n\")\n",
    "\n",
    "res = a.max(axis=1)\n",
    "\n",
    "print(\"Maximum in every array row: \",res,\"\\n\")\n",
    "\n",
    "res = a.min(axis=0)\n",
    "\n",
    "print(\"Minimum in every array column: \",res,\"\\n\")\n",
    "\n",
    "res = a.min(axis=1)\n",
    "\n",
    "print(\"Minimum in every array row: \",res,\"\\n\")\n",
    "\n",
    "print(\"Similar using have functions:\\n\\tstd - standard deviation\\n\\tmean - average\\n\")\n",
    "\n",
    "res = a.std(axis=0)\n",
    "\n",
    "print(\"Standart deviation by columns: \\n\", res,\"\\n\")\n",
    "\n",
    "res = a.mean(axis=1)\n",
    "\n",
    "print(\"Average by rows: \\n\", res,\"\\n\")\n",
    "\n",
    "res = a.cumsum()\n",
    "\n",
    "print(\"Cumulative sum of A: \\n\",res)"
   ]
  },
  {
   "cell_type": "markdown",
   "id": "09093869",
   "metadata": {},
   "source": [
    "**Changing shape of an array**"
   ]
  },
  {
   "cell_type": "code",
   "execution_count": 11,
   "id": "d220fd27",
   "metadata": {},
   "outputs": [
    {
     "name": "stdout",
     "output_type": "stream",
     "text": [
      "Base array: \n",
      " [1 2 3 4 5 6] \n",
      "\n",
      "You can reshape your array by new array size (2,3): \n",
      " [[1 2 3]\n",
      " [4 5 6]] \n",
      "\n",
      "You can reshape your array by new another array size (3,2): \n",
      " [[1 2]\n",
      " [3 4]\n",
      " [5 6]] \n",
      "\n",
      "Matrix transpose (from last example): \n",
      " [[1 3 5]\n",
      " [2 4 6]] \n",
      "\n",
      "\tNB: When we transpose matrix with one dimension it the matrix remains the same\n",
      "\n",
      "Reshaped array: \n",
      " [[1 2 3]\n",
      " [4 5 6]] \n",
      "\n",
      "Matrix flip by every axis: \n",
      " [[6 5 4]\n",
      " [3 2 1]] \n",
      "\n",
      "Matrix flip by axis 0: \n",
      " [[4 5 6]\n",
      " [1 2 3]] \n",
      "\n",
      "Matrix flip by axis 1: \n",
      " [[3 2 1]\n",
      " [6 5 4]] \n",
      "\n"
     ]
    }
   ],
   "source": [
    "A = np.array([1, 2, 3, 4, 5, 6])\n",
    "\n",
    "print(\"Base array: \\n\", A, \"\\n\")\n",
    "\n",
    "res = A.reshape(2, 3)\n",
    "\n",
    "print(\"You can reshape your array by new array size (2,3): \\n\", res,\"\\n\")\n",
    "\n",
    "res = A.reshape(3, 2)\n",
    "\n",
    "print(\"You can reshape your array by new another array size (3,2): \\n\", res,\"\\n\")\n",
    "\n",
    "res = res.transpose()\n",
    "\n",
    "print(\"Matrix transpose (from last example): \\n\",res,\"\\n\")\n",
    "print(\"\\tNB: When we transpose matrix with one dimension it the matrix remains the same\\n\")\n",
    "\n",
    "A = A.reshape(2, 3)\n",
    "\n",
    "print(\"Reshaped array: \\n\",A,\"\\n\")\n",
    "\n",
    "res = np.flip(A)\n",
    "\n",
    "print(\"Matrix flip by every axis: \\n\",res,\"\\n\")\n",
    "\n",
    "res = np.flip(A, axis=0)\n",
    "\n",
    "print(\"Matrix flip by axis 0: \\n\",res,\"\\n\")\n",
    "\n",
    "res = np.flip(A, axis=1)\n",
    "\n",
    "print(\"Matrix flip by axis 1: \\n\",res,\"\\n\")"
   ]
  },
  {
   "cell_type": "markdown",
   "id": "11bf5802",
   "metadata": {},
   "source": [
    "## Test zone"
   ]
  },
  {
   "cell_type": "code",
   "execution_count": null,
   "id": "963b1bcb",
   "metadata": {},
   "outputs": [],
   "source": [
    "\n"
   ]
  }
 ],
 "metadata": {
  "kernelspec": {
   "display_name": "Python 3 (ipykernel)",
   "language": "python",
   "name": "python3"
  },
  "language_info": {
   "codemirror_mode": {
    "name": "ipython",
    "version": 3
   },
   "file_extension": ".py",
   "mimetype": "text/x-python",
   "name": "python",
   "nbconvert_exporter": "python",
   "pygments_lexer": "ipython3",
   "version": "3.11.5"
  }
 },
 "nbformat": 4,
 "nbformat_minor": 5
}

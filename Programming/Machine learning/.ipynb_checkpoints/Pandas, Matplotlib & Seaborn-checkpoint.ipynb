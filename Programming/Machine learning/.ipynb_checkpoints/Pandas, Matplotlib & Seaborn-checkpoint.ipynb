{
 "cells": [
  {
   "cell_type": "markdown",
   "id": "1acfd958",
   "metadata": {},
   "source": [
    "# Pandas, Matplotlib & Seaborn\n",
    "## Pandas\n",
    "### Basic initialize and use\n",
    "**Import**"
   ]
  },
  {
   "cell_type": "code",
   "execution_count": 43,
   "id": "145f6d0f",
   "metadata": {},
   "outputs": [
    {
     "name": "stdout",
     "output_type": "stream",
     "text": [
      "Requirement already satisfied: pandas in c:\\users\\casey\\anaconda3\\lib\\site-packages (2.0.3)\n",
      "Requirement already satisfied: python-dateutil>=2.8.2 in c:\\users\\casey\\anaconda3\\lib\\site-packages (from pandas) (2.8.2)\n",
      "Requirement already satisfied: pytz>=2020.1 in c:\\users\\casey\\anaconda3\\lib\\site-packages (from pandas) (2023.3.post1)\n",
      "Requirement already satisfied: tzdata>=2022.1 in c:\\users\\casey\\anaconda3\\lib\\site-packages (from pandas) (2023.3)\n",
      "Requirement already satisfied: numpy>=1.21.0 in c:\\users\\casey\\anaconda3\\lib\\site-packages (from pandas) (1.24.3)\n",
      "Requirement already satisfied: six>=1.5 in c:\\users\\casey\\anaconda3\\lib\\site-packages (from python-dateutil>=2.8.2->pandas) (1.16.0)\n"
     ]
    }
   ],
   "source": [
    "!pip install pandas\n",
    "import pandas as pd"
   ]
  },
  {
   "cell_type": "markdown",
   "id": "daf192fb",
   "metadata": {},
   "source": [
    "**Series**. Массив. Индексация может быть не только числовая, но и ассоциотивная"
   ]
  },
  {
   "cell_type": "code",
   "execution_count": 44,
   "id": "568eced1",
   "metadata": {},
   "outputs": [
    {
     "name": "stdout",
     "output_type": "stream",
     "text": [
      "Данные:\n",
      "\n",
      "Первый        Январь\n",
      "Второй       Февраль\n",
      "Третий          Март\n",
      "Четвёртый     Апрель\n",
      "dtype: object \n",
      "\n",
      "Индексация строками: \n",
      "\n",
      "Первый    Январь\n",
      "Третий      Март\n",
      "dtype: object \n",
      "\n",
      "Первый    Январь\n",
      "Третий      Март\n",
      "dtype: object \n",
      "\n",
      "Индексация числами: \n",
      "\n",
      "Первый       Январь\n",
      "Четвёртый    Апрель\n",
      "dtype: object \n",
      "\n",
      "Первый       Январь\n",
      "Четвёртый    Апрель\n",
      "dtype: object \n",
      "\n"
     ]
    }
   ],
   "source": [
    "data = pd.Series(\n",
    "    [\"Январь\", \"Февраль\", \"Март\", \"Апрель\"],\n",
    "    index = ['Первый', \"Второй\", \"Третий\", \"Четвёртый\"]\n",
    ")\n",
    "\n",
    "print(\"Данные:\\n\")\n",
    "print(data, \"\\n\")\n",
    "\n",
    "print(\"Индексация строками: \\n\")\n",
    "print(data.loc[[\"Первый\", \"Третий\"]], \"\\n\")\n",
    "print(data[[\"Первый\", \"Третий\"]], \"\\n\")\n",
    "\n",
    "print(\"Индексация числами: \\n\")\n",
    "print(data.iloc[[0,3]], \"\\n\")\n",
    "print(data[[0,3]], \"\\n\")"
   ]
  },
  {
   "cell_type": "markdown",
   "id": "9de69548",
   "metadata": {},
   "source": [
    "**DataFrame**. Таблица. Индексация может быть не только числовая, но и ассоциотивная"
   ]
  },
  {
   "cell_type": "code",
   "execution_count": 45,
   "id": "8b8ca7f6",
   "metadata": {},
   "outputs": [
    {
     "name": "stdout",
     "output_type": "stream",
     "text": [
      "Пример данных:\n",
      "\n",
      "   col1  col2\n",
      "0     1     3\n",
      "1     2     4 \n",
      "\n",
      "Пример данных с другим объявлением:\n",
      "\n",
      "   col1  col2\n",
      "0     1     5\n",
      "1     2     6\n",
      "2     3     7\n",
      "3     4     8 \n",
      "\n",
      "Пример таблицы с иной индексацией строк:\n",
      "\n",
      "          столбец 1  столбец 2\n",
      "строка 1          1          3\n",
      "строка 2          2          4 \n",
      "\n",
      "Индексация так же может проходить через строки и числа: \n",
      "\n",
      "Отдельный столбец:\n",
      " строка 1    1\n",
      "строка 2    2\n",
      "Name: столбец 1, dtype: int64 \n",
      "\n",
      "Отдельный столбец:\n",
      " столбец 1    1\n",
      "столбец 2    3\n",
      "Name: строка 1, dtype: int64 \n",
      "\n",
      "Отдельный элемент:\n",
      " 3 \n",
      "\n"
     ]
    }
   ],
   "source": [
    "df = pd.DataFrame({'col1': [1, 2], 'col2': [3, 4]})\n",
    "\n",
    "print(\"Пример данных:\\n\")\n",
    "print(df, \"\\n\")\n",
    "\n",
    "d = {'col1': pd.Series([1, 2, 3, 4]), 'col2': pd.Series([5, 6, 7, 8])}\n",
    "df = pd.DataFrame(data=d)\n",
    "\n",
    "print(\"Пример данных с другим объявлением:\\n\")\n",
    "print(df, \"\\n\")\n",
    "\n",
    "df = pd.DataFrame({'столбец 1': [1, 2], 'столбец 2': [3, 4]}, index=['строка 1', 'строка 2'])\n",
    "print(\"Пример таблицы с иной индексацией строк:\\n\")\n",
    "print(df, \"\\n\")\n",
    "\n",
    "print(\"Индексация так же может проходить через строки и числа: \\n\")\n",
    "print(\"Отдельный столбец:\\n\", df['столбец 1'], \"\\n\")\n",
    "print(\"Отдельный столбец:\\n\",df.iloc[0], \"\\n\")\n",
    "print(\"Отдельный элемент:\\n\", df.iloc[0][1],\"\\n\")"
   ]
  },
  {
   "cell_type": "markdown",
   "id": "1b188d4f",
   "metadata": {},
   "source": [
    "**read_csv()**. Считывание таблиц\n",
    "\n",
    "Некоторые параметры:\n",
    "* sep — разделитель данных, по умолчанию ',' ;\n",
    "* decimal — разделитель числа на целую и дробную часть, по умолчанию '.' ;\n",
    "* names — список с названиями колонок, необязательный параметр;\n",
    "* index_col - какая строчка станет индексом датафрейма"
   ]
  },
  {
   "cell_type": "code",
   "execution_count": 46,
   "id": "50dce503",
   "metadata": {},
   "outputs": [
    {
     "data": {
      "text/html": [
       "<div>\n",
       "<style scoped>\n",
       "    .dataframe tbody tr th:only-of-type {\n",
       "        vertical-align: middle;\n",
       "    }\n",
       "\n",
       "    .dataframe tbody tr th {\n",
       "        vertical-align: top;\n",
       "    }\n",
       "\n",
       "    .dataframe thead th {\n",
       "        text-align: right;\n",
       "    }\n",
       "</style>\n",
       "<table border=\"1\" class=\"dataframe\">\n",
       "  <thead>\n",
       "    <tr style=\"text-align: right;\">\n",
       "      <th></th>\n",
       "      <th>Unnamed: 0</th>\n",
       "      <th>Name</th>\n",
       "      <th>Age</th>\n",
       "      <th>Nationality</th>\n",
       "      <th>Club</th>\n",
       "      <th>Value</th>\n",
       "      <th>Wage</th>\n",
       "      <th>Position</th>\n",
       "      <th>Crossing</th>\n",
       "      <th>Finishing</th>\n",
       "      <th>...</th>\n",
       "      <th>Penalties</th>\n",
       "      <th>Composure</th>\n",
       "      <th>Marking</th>\n",
       "      <th>StandingTackle</th>\n",
       "      <th>SlidingTackle</th>\n",
       "      <th>GKDiving</th>\n",
       "      <th>GKHandling</th>\n",
       "      <th>GKKicking</th>\n",
       "      <th>GKPositioning</th>\n",
       "      <th>GKReflexes</th>\n",
       "    </tr>\n",
       "  </thead>\n",
       "  <tbody>\n",
       "    <tr>\n",
       "      <th>0</th>\n",
       "      <td>0</td>\n",
       "      <td>L. Messi</td>\n",
       "      <td>31</td>\n",
       "      <td>Argentina</td>\n",
       "      <td>FC Barcelona</td>\n",
       "      <td>110500000</td>\n",
       "      <td>565000</td>\n",
       "      <td>RF</td>\n",
       "      <td>84</td>\n",
       "      <td>95</td>\n",
       "      <td>...</td>\n",
       "      <td>75</td>\n",
       "      <td>96</td>\n",
       "      <td>33</td>\n",
       "      <td>28</td>\n",
       "      <td>26</td>\n",
       "      <td>6</td>\n",
       "      <td>11</td>\n",
       "      <td>15</td>\n",
       "      <td>14</td>\n",
       "      <td>8</td>\n",
       "    </tr>\n",
       "    <tr>\n",
       "      <th>1</th>\n",
       "      <td>1</td>\n",
       "      <td>Cristiano Ronaldo</td>\n",
       "      <td>33</td>\n",
       "      <td>Portugal</td>\n",
       "      <td>Juventus</td>\n",
       "      <td>77000000</td>\n",
       "      <td>405000</td>\n",
       "      <td>ST</td>\n",
       "      <td>84</td>\n",
       "      <td>94</td>\n",
       "      <td>...</td>\n",
       "      <td>85</td>\n",
       "      <td>95</td>\n",
       "      <td>28</td>\n",
       "      <td>31</td>\n",
       "      <td>23</td>\n",
       "      <td>7</td>\n",
       "      <td>11</td>\n",
       "      <td>15</td>\n",
       "      <td>14</td>\n",
       "      <td>11</td>\n",
       "    </tr>\n",
       "    <tr>\n",
       "      <th>2</th>\n",
       "      <td>2</td>\n",
       "      <td>Neymar Jr</td>\n",
       "      <td>26</td>\n",
       "      <td>Brazil</td>\n",
       "      <td>Paris Saint-Germain</td>\n",
       "      <td>118500000</td>\n",
       "      <td>290000</td>\n",
       "      <td>LW</td>\n",
       "      <td>79</td>\n",
       "      <td>87</td>\n",
       "      <td>...</td>\n",
       "      <td>81</td>\n",
       "      <td>94</td>\n",
       "      <td>27</td>\n",
       "      <td>24</td>\n",
       "      <td>33</td>\n",
       "      <td>9</td>\n",
       "      <td>9</td>\n",
       "      <td>15</td>\n",
       "      <td>15</td>\n",
       "      <td>11</td>\n",
       "    </tr>\n",
       "    <tr>\n",
       "      <th>3</th>\n",
       "      <td>3</td>\n",
       "      <td>De Gea</td>\n",
       "      <td>27</td>\n",
       "      <td>Spain</td>\n",
       "      <td>Manchester United</td>\n",
       "      <td>72000000</td>\n",
       "      <td>260000</td>\n",
       "      <td>GK</td>\n",
       "      <td>17</td>\n",
       "      <td>13</td>\n",
       "      <td>...</td>\n",
       "      <td>40</td>\n",
       "      <td>68</td>\n",
       "      <td>15</td>\n",
       "      <td>21</td>\n",
       "      <td>13</td>\n",
       "      <td>90</td>\n",
       "      <td>85</td>\n",
       "      <td>87</td>\n",
       "      <td>88</td>\n",
       "      <td>94</td>\n",
       "    </tr>\n",
       "    <tr>\n",
       "      <th>4</th>\n",
       "      <td>4</td>\n",
       "      <td>K. De Bruyne</td>\n",
       "      <td>27</td>\n",
       "      <td>Belgium</td>\n",
       "      <td>Manchester City</td>\n",
       "      <td>102000000</td>\n",
       "      <td>355000</td>\n",
       "      <td>RCM</td>\n",
       "      <td>93</td>\n",
       "      <td>82</td>\n",
       "      <td>...</td>\n",
       "      <td>79</td>\n",
       "      <td>88</td>\n",
       "      <td>68</td>\n",
       "      <td>58</td>\n",
       "      <td>51</td>\n",
       "      <td>15</td>\n",
       "      <td>13</td>\n",
       "      <td>5</td>\n",
       "      <td>10</td>\n",
       "      <td>13</td>\n",
       "    </tr>\n",
       "  </tbody>\n",
       "</table>\n",
       "<p>5 rows × 42 columns</p>\n",
       "</div>"
      ],
      "text/plain": [
       "   Unnamed: 0               Name  Age Nationality                 Club  \\\n",
       "0           0           L. Messi   31   Argentina         FC Barcelona   \n",
       "1           1  Cristiano Ronaldo   33    Portugal             Juventus   \n",
       "2           2          Neymar Jr   26      Brazil  Paris Saint-Germain   \n",
       "3           3             De Gea   27       Spain    Manchester United   \n",
       "4           4       K. De Bruyne   27     Belgium      Manchester City   \n",
       "\n",
       "       Value    Wage Position  Crossing  Finishing  ...  Penalties  Composure  \\\n",
       "0  110500000  565000       RF        84         95  ...         75         96   \n",
       "1   77000000  405000       ST        84         94  ...         85         95   \n",
       "2  118500000  290000       LW        79         87  ...         81         94   \n",
       "3   72000000  260000       GK        17         13  ...         40         68   \n",
       "4  102000000  355000      RCM        93         82  ...         79         88   \n",
       "\n",
       "   Marking  StandingTackle  SlidingTackle  GKDiving  GKHandling  GKKicking  \\\n",
       "0       33              28             26         6          11         15   \n",
       "1       28              31             23         7          11         15   \n",
       "2       27              24             33         9           9         15   \n",
       "3       15              21             13        90          85         87   \n",
       "4       68              58             51        15          13          5   \n",
       "\n",
       "   GKPositioning  GKReflexes  \n",
       "0             14           8  \n",
       "1             14          11  \n",
       "2             15          11  \n",
       "3             88          94  \n",
       "4             10          13  \n",
       "\n",
       "[5 rows x 42 columns]"
      ]
     },
     "execution_count": 46,
     "metadata": {},
     "output_type": "execute_result"
    }
   ],
   "source": [
    "df = pd.read_csv(\"https://ai-academy.ru/upload/files/football.csv\")\n",
    "df.head(5)"
   ]
  },
  {
   "cell_type": "code",
   "execution_count": 47,
   "id": "35976ccc",
   "metadata": {},
   "outputs": [
    {
     "data": {
      "text/html": [
       "<div>\n",
       "<style scoped>\n",
       "    .dataframe tbody tr th:only-of-type {\n",
       "        vertical-align: middle;\n",
       "    }\n",
       "\n",
       "    .dataframe tbody tr th {\n",
       "        vertical-align: top;\n",
       "    }\n",
       "\n",
       "    .dataframe thead th {\n",
       "        text-align: right;\n",
       "    }\n",
       "</style>\n",
       "<table border=\"1\" class=\"dataframe\">\n",
       "  <thead>\n",
       "    <tr style=\"text-align: right;\">\n",
       "      <th></th>\n",
       "      <th>Name</th>\n",
       "      <th>Age</th>\n",
       "      <th>Nationality</th>\n",
       "      <th>Club</th>\n",
       "      <th>Value</th>\n",
       "      <th>Wage</th>\n",
       "      <th>Position</th>\n",
       "      <th>Crossing</th>\n",
       "      <th>Finishing</th>\n",
       "      <th>HeadingAccuracy</th>\n",
       "      <th>...</th>\n",
       "      <th>Penalties</th>\n",
       "      <th>Composure</th>\n",
       "      <th>Marking</th>\n",
       "      <th>StandingTackle</th>\n",
       "      <th>SlidingTackle</th>\n",
       "      <th>GKDiving</th>\n",
       "      <th>GKHandling</th>\n",
       "      <th>GKKicking</th>\n",
       "      <th>GKPositioning</th>\n",
       "      <th>GKReflexes</th>\n",
       "    </tr>\n",
       "  </thead>\n",
       "  <tbody>\n",
       "    <tr>\n",
       "      <th>0</th>\n",
       "      <td>L. Messi</td>\n",
       "      <td>31</td>\n",
       "      <td>Argentina</td>\n",
       "      <td>FC Barcelona</td>\n",
       "      <td>110500000</td>\n",
       "      <td>565000</td>\n",
       "      <td>RF</td>\n",
       "      <td>84</td>\n",
       "      <td>95</td>\n",
       "      <td>70</td>\n",
       "      <td>...</td>\n",
       "      <td>75</td>\n",
       "      <td>96</td>\n",
       "      <td>33</td>\n",
       "      <td>28</td>\n",
       "      <td>26</td>\n",
       "      <td>6</td>\n",
       "      <td>11</td>\n",
       "      <td>15</td>\n",
       "      <td>14</td>\n",
       "      <td>8</td>\n",
       "    </tr>\n",
       "    <tr>\n",
       "      <th>1</th>\n",
       "      <td>Cristiano Ronaldo</td>\n",
       "      <td>33</td>\n",
       "      <td>Portugal</td>\n",
       "      <td>Juventus</td>\n",
       "      <td>77000000</td>\n",
       "      <td>405000</td>\n",
       "      <td>ST</td>\n",
       "      <td>84</td>\n",
       "      <td>94</td>\n",
       "      <td>89</td>\n",
       "      <td>...</td>\n",
       "      <td>85</td>\n",
       "      <td>95</td>\n",
       "      <td>28</td>\n",
       "      <td>31</td>\n",
       "      <td>23</td>\n",
       "      <td>7</td>\n",
       "      <td>11</td>\n",
       "      <td>15</td>\n",
       "      <td>14</td>\n",
       "      <td>11</td>\n",
       "    </tr>\n",
       "    <tr>\n",
       "      <th>2</th>\n",
       "      <td>Neymar Jr</td>\n",
       "      <td>26</td>\n",
       "      <td>Brazil</td>\n",
       "      <td>Paris Saint-Germain</td>\n",
       "      <td>118500000</td>\n",
       "      <td>290000</td>\n",
       "      <td>LW</td>\n",
       "      <td>79</td>\n",
       "      <td>87</td>\n",
       "      <td>62</td>\n",
       "      <td>...</td>\n",
       "      <td>81</td>\n",
       "      <td>94</td>\n",
       "      <td>27</td>\n",
       "      <td>24</td>\n",
       "      <td>33</td>\n",
       "      <td>9</td>\n",
       "      <td>9</td>\n",
       "      <td>15</td>\n",
       "      <td>15</td>\n",
       "      <td>11</td>\n",
       "    </tr>\n",
       "    <tr>\n",
       "      <th>3</th>\n",
       "      <td>De Gea</td>\n",
       "      <td>27</td>\n",
       "      <td>Spain</td>\n",
       "      <td>Manchester United</td>\n",
       "      <td>72000000</td>\n",
       "      <td>260000</td>\n",
       "      <td>GK</td>\n",
       "      <td>17</td>\n",
       "      <td>13</td>\n",
       "      <td>21</td>\n",
       "      <td>...</td>\n",
       "      <td>40</td>\n",
       "      <td>68</td>\n",
       "      <td>15</td>\n",
       "      <td>21</td>\n",
       "      <td>13</td>\n",
       "      <td>90</td>\n",
       "      <td>85</td>\n",
       "      <td>87</td>\n",
       "      <td>88</td>\n",
       "      <td>94</td>\n",
       "    </tr>\n",
       "    <tr>\n",
       "      <th>4</th>\n",
       "      <td>K. De Bruyne</td>\n",
       "      <td>27</td>\n",
       "      <td>Belgium</td>\n",
       "      <td>Manchester City</td>\n",
       "      <td>102000000</td>\n",
       "      <td>355000</td>\n",
       "      <td>RCM</td>\n",
       "      <td>93</td>\n",
       "      <td>82</td>\n",
       "      <td>55</td>\n",
       "      <td>...</td>\n",
       "      <td>79</td>\n",
       "      <td>88</td>\n",
       "      <td>68</td>\n",
       "      <td>58</td>\n",
       "      <td>51</td>\n",
       "      <td>15</td>\n",
       "      <td>13</td>\n",
       "      <td>5</td>\n",
       "      <td>10</td>\n",
       "      <td>13</td>\n",
       "    </tr>\n",
       "  </tbody>\n",
       "</table>\n",
       "<p>5 rows × 41 columns</p>\n",
       "</div>"
      ],
      "text/plain": [
       "                Name  Age Nationality                 Club      Value    Wage  \\\n",
       "0           L. Messi   31   Argentina         FC Barcelona  110500000  565000   \n",
       "1  Cristiano Ronaldo   33    Portugal             Juventus   77000000  405000   \n",
       "2          Neymar Jr   26      Brazil  Paris Saint-Germain  118500000  290000   \n",
       "3             De Gea   27       Spain    Manchester United   72000000  260000   \n",
       "4       K. De Bruyne   27     Belgium      Manchester City  102000000  355000   \n",
       "\n",
       "  Position  Crossing  Finishing  HeadingAccuracy  ...  Penalties  Composure  \\\n",
       "0       RF        84         95               70  ...         75         96   \n",
       "1       ST        84         94               89  ...         85         95   \n",
       "2       LW        79         87               62  ...         81         94   \n",
       "3       GK        17         13               21  ...         40         68   \n",
       "4      RCM        93         82               55  ...         79         88   \n",
       "\n",
       "   Marking  StandingTackle  SlidingTackle  GKDiving  GKHandling  GKKicking  \\\n",
       "0       33              28             26         6          11         15   \n",
       "1       28              31             23         7          11         15   \n",
       "2       27              24             33         9           9         15   \n",
       "3       15              21             13        90          85         87   \n",
       "4       68              58             51        15          13          5   \n",
       "\n",
       "   GKPositioning  GKReflexes  \n",
       "0             14           8  \n",
       "1             14          11  \n",
       "2             15          11  \n",
       "3             88          94  \n",
       "4             10          13  \n",
       "\n",
       "[5 rows x 41 columns]"
      ]
     },
     "execution_count": 47,
     "metadata": {},
     "output_type": "execute_result"
    }
   ],
   "source": [
    "df = pd.read_csv(\"https://ai-academy.ru/upload/files/football.csv\", index_col = 0)\n",
    "df.head()"
   ]
  },
  {
   "cell_type": "markdown",
   "id": "b23975c3",
   "metadata": {},
   "source": [
    "**DataFrame functions**\n",
    "\n",
    "**.shape** - возвращает кортеж из числа строк и столбцов у df\n",
    "\n",
    "**.columns** - возвращает коллекцию с названиями колонок\n",
    "\n",
    "**.info()** - базовая информация о всех строках в датасете\n",
    "\n",
    "**.describe()** для каждой числовой колонки выдает информацию о статистиках:\n",
    "- **count**: количество не-NaN значений в колонке;\n",
    "- **mean**: арифметическое среднее значений в колонке;\n",
    "- **std**: стардартное отклонение значений в колонке;\n",
    "- **min**: минимальное значение в колонке;\n",
    "- **25%**: 25-процентная перцентиль значений в колонке;\n",
    "- **50%**: 50-процентная перцентиль значений в колонке;\n",
    "- **75%**: 75-процентная перцентиль значений в колонке;\n",
    "- **max**: максимальное значение в колонке;"
   ]
  },
  {
   "cell_type": "code",
   "execution_count": 48,
   "id": "b4fd6797",
   "metadata": {},
   "outputs": [
    {
     "data": {
      "text/plain": [
       "(12897, 41)"
      ]
     },
     "execution_count": 48,
     "metadata": {},
     "output_type": "execute_result"
    }
   ],
   "source": [
    "df.shape"
   ]
  },
  {
   "cell_type": "code",
   "execution_count": 49,
   "id": "98136d13",
   "metadata": {},
   "outputs": [
    {
     "data": {
      "text/plain": [
       "Index(['Name', 'Age', 'Nationality', 'Club', 'Value', 'Wage', 'Position',\n",
       "       'Crossing', 'Finishing', 'HeadingAccuracy', 'ShortPassing', 'Volleys',\n",
       "       'Dribbling', 'Curve', 'FKAccuracy', 'LongPassing', 'BallControl',\n",
       "       'Acceleration', 'SprintSpeed', 'Agility', 'Reactions', 'Balance',\n",
       "       'ShotPower', 'Jumping', 'Stamina', 'Strength', 'LongShots',\n",
       "       'Aggression', 'Interceptions', 'Positioning', 'Vision', 'Penalties',\n",
       "       'Composure', 'Marking', 'StandingTackle', 'SlidingTackle', 'GKDiving',\n",
       "       'GKHandling', 'GKKicking', 'GKPositioning', 'GKReflexes'],\n",
       "      dtype='object')"
      ]
     },
     "execution_count": 49,
     "metadata": {},
     "output_type": "execute_result"
    }
   ],
   "source": [
    "df.columns"
   ]
  },
  {
   "cell_type": "code",
   "execution_count": 63,
   "id": "a89377f1",
   "metadata": {},
   "outputs": [
    {
     "name": "stdout",
     "output_type": "stream",
     "text": [
      "<class 'pandas.core.frame.DataFrame'>\n",
      "Index: 12897 entries, 0 to 13125\n",
      "Data columns (total 41 columns):\n",
      " #   Column           Non-Null Count  Dtype \n",
      "---  ------           --------------  ----- \n",
      " 0   Name             12897 non-null  object\n",
      " 1   Age              12897 non-null  int64 \n",
      " 2   Nationality      12897 non-null  object\n",
      " 3   Club             12897 non-null  object\n",
      " 4   Value            12897 non-null  int64 \n",
      " 5   Wage             12897 non-null  int64 \n",
      " 6   Position         12897 non-null  object\n",
      " 7   Crossing         12897 non-null  int64 \n",
      " 8   Finishing        12897 non-null  int64 \n",
      " 9   HeadingAccuracy  12897 non-null  int64 \n",
      " 10  ShortPassing     12897 non-null  int64 \n",
      " 11  Volleys          12897 non-null  int64 \n",
      " 12  Dribbling        12897 non-null  int64 \n",
      " 13  Curve            12897 non-null  int64 \n",
      " 14  FKAccuracy       12897 non-null  int64 \n",
      " 15  LongPassing      12897 non-null  int64 \n",
      " 16  BallControl      12897 non-null  int64 \n",
      " 17  Acceleration     12897 non-null  int64 \n",
      " 18  SprintSpeed      12897 non-null  int64 \n",
      " 19  Agility          12897 non-null  int64 \n",
      " 20  Reactions        12897 non-null  int64 \n",
      " 21  Balance          12897 non-null  int64 \n",
      " 22  ShotPower        12897 non-null  int64 \n",
      " 23  Jumping          12897 non-null  int64 \n",
      " 24  Stamina          12897 non-null  int64 \n",
      " 25  Strength         12897 non-null  int64 \n",
      " 26  LongShots        12897 non-null  int64 \n",
      " 27  Aggression       12897 non-null  int64 \n",
      " 28  Interceptions    12897 non-null  int64 \n",
      " 29  Positioning      12897 non-null  int64 \n",
      " 30  Vision           12897 non-null  int64 \n",
      " 31  Penalties        12897 non-null  int64 \n",
      " 32  Composure        12897 non-null  int64 \n",
      " 33  Marking          12897 non-null  int64 \n",
      " 34  StandingTackle   12897 non-null  int64 \n",
      " 35  SlidingTackle    12897 non-null  int64 \n",
      " 36  GKDiving         12897 non-null  int64 \n",
      " 37  GKHandling       12897 non-null  int64 \n",
      " 38  GKKicking        12897 non-null  int64 \n",
      " 39  GKPositioning    12897 non-null  int64 \n",
      " 40  GKReflexes       12897 non-null  int64 \n",
      "dtypes: int64(37), object(4)\n",
      "memory usage: 4.1+ MB\n"
     ]
    }
   ],
   "source": [
    "df.info()"
   ]
  },
  {
   "cell_type": "code",
   "execution_count": 65,
   "id": "09df0e77",
   "metadata": {},
   "outputs": [
    {
     "data": {
      "text/html": [
       "<div>\n",
       "<style scoped>\n",
       "    .dataframe tbody tr th:only-of-type {\n",
       "        vertical-align: middle;\n",
       "    }\n",
       "\n",
       "    .dataframe tbody tr th {\n",
       "        vertical-align: top;\n",
       "    }\n",
       "\n",
       "    .dataframe thead th {\n",
       "        text-align: right;\n",
       "    }\n",
       "</style>\n",
       "<table border=\"1\" class=\"dataframe\">\n",
       "  <thead>\n",
       "    <tr style=\"text-align: right;\">\n",
       "      <th></th>\n",
       "      <th>Age</th>\n",
       "      <th>Value</th>\n",
       "      <th>Wage</th>\n",
       "      <th>Crossing</th>\n",
       "      <th>Finishing</th>\n",
       "      <th>HeadingAccuracy</th>\n",
       "      <th>ShortPassing</th>\n",
       "      <th>Volleys</th>\n",
       "      <th>Dribbling</th>\n",
       "      <th>Curve</th>\n",
       "      <th>...</th>\n",
       "      <th>Penalties</th>\n",
       "      <th>Composure</th>\n",
       "      <th>Marking</th>\n",
       "      <th>StandingTackle</th>\n",
       "      <th>SlidingTackle</th>\n",
       "      <th>GKDiving</th>\n",
       "      <th>GKHandling</th>\n",
       "      <th>GKKicking</th>\n",
       "      <th>GKPositioning</th>\n",
       "      <th>GKReflexes</th>\n",
       "    </tr>\n",
       "  </thead>\n",
       "  <tbody>\n",
       "    <tr>\n",
       "      <th>count</th>\n",
       "      <td>12897.000000</td>\n",
       "      <td>1.289700e+04</td>\n",
       "      <td>12897.000000</td>\n",
       "      <td>12897.000000</td>\n",
       "      <td>12897.000000</td>\n",
       "      <td>12897.000000</td>\n",
       "      <td>12897.000000</td>\n",
       "      <td>12897.000000</td>\n",
       "      <td>12897.000000</td>\n",
       "      <td>12897.000000</td>\n",
       "      <td>...</td>\n",
       "      <td>12897.000000</td>\n",
       "      <td>12897.000000</td>\n",
       "      <td>12897.000000</td>\n",
       "      <td>12897.000000</td>\n",
       "      <td>12897.000000</td>\n",
       "      <td>12897.000000</td>\n",
       "      <td>12897.000000</td>\n",
       "      <td>12897.000000</td>\n",
       "      <td>12897.000000</td>\n",
       "      <td>12897.000000</td>\n",
       "    </tr>\n",
       "    <tr>\n",
       "      <th>mean</th>\n",
       "      <td>24.795379</td>\n",
       "      <td>2.112449e+06</td>\n",
       "      <td>7517.562224</td>\n",
       "      <td>47.076374</td>\n",
       "      <td>42.876328</td>\n",
       "      <td>50.202528</td>\n",
       "      <td>56.026983</td>\n",
       "      <td>40.295030</td>\n",
       "      <td>52.461735</td>\n",
       "      <td>44.264403</td>\n",
       "      <td>...</td>\n",
       "      <td>46.459874</td>\n",
       "      <td>55.942932</td>\n",
       "      <td>45.655811</td>\n",
       "      <td>46.186710</td>\n",
       "      <td>44.386679</td>\n",
       "      <td>17.218345</td>\n",
       "      <td>16.962317</td>\n",
       "      <td>16.797938</td>\n",
       "      <td>16.950221</td>\n",
       "      <td>17.315965</td>\n",
       "    </tr>\n",
       "    <tr>\n",
       "      <th>std</th>\n",
       "      <td>4.872212</td>\n",
       "      <td>6.498424e+06</td>\n",
       "      <td>23061.985387</td>\n",
       "      <td>18.043470</td>\n",
       "      <td>19.096935</td>\n",
       "      <td>17.281593</td>\n",
       "      <td>14.740436</td>\n",
       "      <td>17.080687</td>\n",
       "      <td>18.871643</td>\n",
       "      <td>17.781283</td>\n",
       "      <td>...</td>\n",
       "      <td>15.479313</td>\n",
       "      <td>11.280631</td>\n",
       "      <td>19.456346</td>\n",
       "      <td>21.172586</td>\n",
       "      <td>20.726546</td>\n",
       "      <td>18.085618</td>\n",
       "      <td>17.349624</td>\n",
       "      <td>16.971411</td>\n",
       "      <td>17.369297</td>\n",
       "      <td>18.335817</td>\n",
       "    </tr>\n",
       "    <tr>\n",
       "      <th>min</th>\n",
       "      <td>16.000000</td>\n",
       "      <td>0.000000e+00</td>\n",
       "      <td>1000.000000</td>\n",
       "      <td>5.000000</td>\n",
       "      <td>2.000000</td>\n",
       "      <td>4.000000</td>\n",
       "      <td>7.000000</td>\n",
       "      <td>4.000000</td>\n",
       "      <td>4.000000</td>\n",
       "      <td>6.000000</td>\n",
       "      <td>...</td>\n",
       "      <td>5.000000</td>\n",
       "      <td>12.000000</td>\n",
       "      <td>3.000000</td>\n",
       "      <td>2.000000</td>\n",
       "      <td>3.000000</td>\n",
       "      <td>1.000000</td>\n",
       "      <td>1.000000</td>\n",
       "      <td>1.000000</td>\n",
       "      <td>1.000000</td>\n",
       "      <td>1.000000</td>\n",
       "    </tr>\n",
       "    <tr>\n",
       "      <th>25%</th>\n",
       "      <td>21.000000</td>\n",
       "      <td>2.500000e+05</td>\n",
       "      <td>1000.000000</td>\n",
       "      <td>35.000000</td>\n",
       "      <td>28.000000</td>\n",
       "      <td>43.000000</td>\n",
       "      <td>50.000000</td>\n",
       "      <td>28.000000</td>\n",
       "      <td>45.000000</td>\n",
       "      <td>32.000000</td>\n",
       "      <td>...</td>\n",
       "      <td>37.000000</td>\n",
       "      <td>49.000000</td>\n",
       "      <td>29.000000</td>\n",
       "      <td>25.000000</td>\n",
       "      <td>23.000000</td>\n",
       "      <td>8.000000</td>\n",
       "      <td>8.000000</td>\n",
       "      <td>8.000000</td>\n",
       "      <td>8.000000</td>\n",
       "      <td>8.000000</td>\n",
       "    </tr>\n",
       "    <tr>\n",
       "      <th>50%</th>\n",
       "      <td>24.000000</td>\n",
       "      <td>5.000000e+05</td>\n",
       "      <td>2000.000000</td>\n",
       "      <td>51.000000</td>\n",
       "      <td>45.000000</td>\n",
       "      <td>54.000000</td>\n",
       "      <td>60.000000</td>\n",
       "      <td>41.000000</td>\n",
       "      <td>58.000000</td>\n",
       "      <td>45.000000</td>\n",
       "      <td>...</td>\n",
       "      <td>47.000000</td>\n",
       "      <td>56.000000</td>\n",
       "      <td>51.000000</td>\n",
       "      <td>54.000000</td>\n",
       "      <td>51.000000</td>\n",
       "      <td>11.000000</td>\n",
       "      <td>11.000000</td>\n",
       "      <td>11.000000</td>\n",
       "      <td>11.000000</td>\n",
       "      <td>11.000000</td>\n",
       "    </tr>\n",
       "    <tr>\n",
       "      <th>75%</th>\n",
       "      <td>28.000000</td>\n",
       "      <td>8.500000e+05</td>\n",
       "      <td>4000.000000</td>\n",
       "      <td>61.000000</td>\n",
       "      <td>59.000000</td>\n",
       "      <td>62.000000</td>\n",
       "      <td>65.000000</td>\n",
       "      <td>53.000000</td>\n",
       "      <td>65.000000</td>\n",
       "      <td>58.000000</td>\n",
       "      <td>...</td>\n",
       "      <td>58.000000</td>\n",
       "      <td>63.000000</td>\n",
       "      <td>62.000000</td>\n",
       "      <td>64.000000</td>\n",
       "      <td>62.000000</td>\n",
       "      <td>14.000000</td>\n",
       "      <td>14.000000</td>\n",
       "      <td>14.000000</td>\n",
       "      <td>14.000000</td>\n",
       "      <td>14.000000</td>\n",
       "    </tr>\n",
       "    <tr>\n",
       "      <th>max</th>\n",
       "      <td>45.000000</td>\n",
       "      <td>1.185000e+08</td>\n",
       "      <td>565000.000000</td>\n",
       "      <td>93.000000</td>\n",
       "      <td>95.000000</td>\n",
       "      <td>94.000000</td>\n",
       "      <td>93.000000</td>\n",
       "      <td>90.000000</td>\n",
       "      <td>97.000000</td>\n",
       "      <td>93.000000</td>\n",
       "      <td>...</td>\n",
       "      <td>91.000000</td>\n",
       "      <td>96.000000</td>\n",
       "      <td>93.000000</td>\n",
       "      <td>93.000000</td>\n",
       "      <td>91.000000</td>\n",
       "      <td>90.000000</td>\n",
       "      <td>92.000000</td>\n",
       "      <td>91.000000</td>\n",
       "      <td>90.000000</td>\n",
       "      <td>94.000000</td>\n",
       "    </tr>\n",
       "  </tbody>\n",
       "</table>\n",
       "<p>8 rows × 37 columns</p>\n",
       "</div>"
      ],
      "text/plain": [
       "                Age         Value           Wage      Crossing     Finishing  \\\n",
       "count  12897.000000  1.289700e+04   12897.000000  12897.000000  12897.000000   \n",
       "mean      24.795379  2.112449e+06    7517.562224     47.076374     42.876328   \n",
       "std        4.872212  6.498424e+06   23061.985387     18.043470     19.096935   \n",
       "min       16.000000  0.000000e+00    1000.000000      5.000000      2.000000   \n",
       "25%       21.000000  2.500000e+05    1000.000000     35.000000     28.000000   \n",
       "50%       24.000000  5.000000e+05    2000.000000     51.000000     45.000000   \n",
       "75%       28.000000  8.500000e+05    4000.000000     61.000000     59.000000   \n",
       "max       45.000000  1.185000e+08  565000.000000     93.000000     95.000000   \n",
       "\n",
       "       HeadingAccuracy  ShortPassing       Volleys     Dribbling  \\\n",
       "count     12897.000000  12897.000000  12897.000000  12897.000000   \n",
       "mean         50.202528     56.026983     40.295030     52.461735   \n",
       "std          17.281593     14.740436     17.080687     18.871643   \n",
       "min           4.000000      7.000000      4.000000      4.000000   \n",
       "25%          43.000000     50.000000     28.000000     45.000000   \n",
       "50%          54.000000     60.000000     41.000000     58.000000   \n",
       "75%          62.000000     65.000000     53.000000     65.000000   \n",
       "max          94.000000     93.000000     90.000000     97.000000   \n",
       "\n",
       "              Curve  ...     Penalties     Composure       Marking  \\\n",
       "count  12897.000000  ...  12897.000000  12897.000000  12897.000000   \n",
       "mean      44.264403  ...     46.459874     55.942932     45.655811   \n",
       "std       17.781283  ...     15.479313     11.280631     19.456346   \n",
       "min        6.000000  ...      5.000000     12.000000      3.000000   \n",
       "25%       32.000000  ...     37.000000     49.000000     29.000000   \n",
       "50%       45.000000  ...     47.000000     56.000000     51.000000   \n",
       "75%       58.000000  ...     58.000000     63.000000     62.000000   \n",
       "max       93.000000  ...     91.000000     96.000000     93.000000   \n",
       "\n",
       "       StandingTackle  SlidingTackle      GKDiving    GKHandling  \\\n",
       "count    12897.000000   12897.000000  12897.000000  12897.000000   \n",
       "mean        46.186710      44.386679     17.218345     16.962317   \n",
       "std         21.172586      20.726546     18.085618     17.349624   \n",
       "min          2.000000       3.000000      1.000000      1.000000   \n",
       "25%         25.000000      23.000000      8.000000      8.000000   \n",
       "50%         54.000000      51.000000     11.000000     11.000000   \n",
       "75%         64.000000      62.000000     14.000000     14.000000   \n",
       "max         93.000000      91.000000     90.000000     92.000000   \n",
       "\n",
       "          GKKicking  GKPositioning    GKReflexes  \n",
       "count  12897.000000   12897.000000  12897.000000  \n",
       "mean      16.797938      16.950221     17.315965  \n",
       "std       16.971411      17.369297     18.335817  \n",
       "min        1.000000       1.000000      1.000000  \n",
       "25%        8.000000       8.000000      8.000000  \n",
       "50%       11.000000      11.000000     11.000000  \n",
       "75%       14.000000      14.000000     14.000000  \n",
       "max       91.000000      90.000000     94.000000  \n",
       "\n",
       "[8 rows x 37 columns]"
      ]
     },
     "execution_count": 65,
     "metadata": {},
     "output_type": "execute_result"
    }
   ],
   "source": [
    "df.describe()"
   ]
  },
  {
   "cell_type": "markdown",
   "id": "6a8f905c",
   "metadata": {},
   "source": [
    "### **Matplotlib**. Рисуем письку на графике"
   ]
  },
  {
   "cell_type": "code",
   "execution_count": 51,
   "id": "3bd69c3e",
   "metadata": {},
   "outputs": [],
   "source": [
    "import matplotlib.pyplot as plt\n",
    "%matplotlib inline\n",
    "\n",
    "# Считываем данные\n",
    "df_rest = pd.read_csv('https://ai-academy.ru/upload/csv/Restaurant.csv')"
   ]
  },
  {
   "cell_type": "markdown",
   "id": "2bc2608e",
   "metadata": {},
   "source": [
    "###### Гистограмма\n",
    "\n",
    "Рисуем гистограмму (высота столбика зависит от количества ячеек total_bill с определенным значением)"
   ]
  },
  {
   "cell_type": "code",
   "execution_count": 52,
   "id": "6f5ef89d",
   "metadata": {},
   "outputs": [
    {
     "data": {
      "text/plain": [
       "<Axes: >"
      ]
     },
     "execution_count": 52,
     "metadata": {},
     "output_type": "execute_result"
    },
    {
     "data": {
      "image/png": "[encoded data removed]",
      "text/plain": [
       "<Figure size 640x480 with 1 Axes>"
      ]
     },
     "metadata": {},
     "output_type": "display_data"
    }
   ],
   "source": [
    "df_rest.total_bill.hist()"
   ]
  },
  {
   "cell_type": "markdown",
   "id": "3e1ca11b",
   "metadata": {},
   "source": [
    "Рисуем гистограмму с большим количеством столбиков"
   ]
  },
  {
   "cell_type": "code",
   "execution_count": 53,
   "id": "438e6f47",
   "metadata": {},
   "outputs": [
    {
     "data": {
      "text/plain": [
       "<Axes: >"
      ]
     },
     "execution_count": 53,
     "metadata": {},
     "output_type": "execute_result"
    },
    {
     "data": {
      "image/png": "[encoded data removed]",
      "text/plain": [
       "<Figure size 640x480 with 1 Axes>"
      ]
     },
     "metadata": {},
     "output_type": "display_data"
    }
   ],
   "source": [
    "df_rest.total_bill.hist(bins = 20)"
   ]
  },
  {
   "cell_type": "markdown",
   "id": "225577e9",
   "metadata": {},
   "source": [
    "Подписываем график"
   ]
  },
  {
   "cell_type": "code",
   "execution_count": 54,
   "id": "f5b8a703",
   "metadata": {},
   "outputs": [
    {
     "data": {
      "text/plain": [
       "Text(0.5, 0, 'Сумма чаевых, USD')"
      ]
     },
     "execution_count": 54,
     "metadata": {},
     "output_type": "execute_result"
    },
    {
     "data": {
      "image/png": "[encoded data removed]",
      "text/plain": [
       "<Figure size 640x480 with 1 Axes>"
      ]
     },
     "metadata": {},
     "output_type": "display_data"
    }
   ],
   "source": [
    "ax = df_rest.tip.hist(bins = 20)\n",
    "\n",
    "ax.set_title('График распределение чаевых')\n",
    "ax.set_ylabel('Количество заказов')\n",
    "ax.set_xlabel('Сумма чаевых, USD')"
   ]
  },
  {
   "cell_type": "markdown",
   "id": "604eccbe",
   "metadata": {},
   "source": [
    "Можно организовать легенду для графика"
   ]
  },
  {
   "cell_type": "code",
   "execution_count": 55,
   "id": "227fa556",
   "metadata": {},
   "outputs": [
    {
     "data": {
      "text/plain": [
       "<matplotlib.legend.Legend at 0x246adb30e50>"
      ]
     },
     "execution_count": 55,
     "metadata": {},
     "output_type": "execute_result"
    },
    {
     "data": {
      "image/png": "[encoded data removed]",
      "text/plain": [
       "<Figure size 640x480 with 1 Axes>"
      ]
     },
     "metadata": {},
     "output_type": "display_data"
    }
   ],
   "source": [
    "tips=df_rest.pivot_table(values = ['total_bill','tip'],\n",
    "               index='day')\n",
    "\n",
    "fig = plt.figure()\n",
    "axes=fig.add_axes([0, 0, 1, 1])\n",
    "axes.bar(x = tips.index, height = tips['total_bill'],\n",
    "       width=0.4, align='edge', label = 'Средняя сумма чека' )\n",
    "axes.bar(x=tips.index, height = tips['tip'],\n",
    "       width=-0.4, align='edge', label = 'Средняя сумма чаевых')\n",
    "axes.set_title(\"Средняя сумма счёта Vs Cредняя сумма чаевых по дням недели\")\n",
    "axes.set_xlabel('Дни недели')\n",
    "axes.set_ylabel('Cyммa')\n",
    "\n",
    "axes.legend(loc = 1)"
   ]
  },
  {
   "cell_type": "markdown",
   "id": "1c71fe2c",
   "metadata": {},
   "source": [
    "###### Точечная диаграмма"
   ]
  },
  {
   "cell_type": "code",
   "execution_count": 56,
   "id": "e391ba69",
   "metadata": {},
   "outputs": [
    {
     "data": {
      "image/png": "[encoded data removed]",
      "text/plain": [
       "<Figure size 640x480 with 1 Axes>"
      ]
     },
     "metadata": {},
     "output_type": "display_data"
    }
   ],
   "source": [
    "axes = df_rest.plot.scatter(\"total_bill\", \"tip\")"
   ]
  },
  {
   "cell_type": "markdown",
   "id": "ccdc7aef",
   "metadata": {},
   "source": [
    "Подписываем оси"
   ]
  },
  {
   "cell_type": "code",
   "execution_count": 57,
   "id": "66d54668",
   "metadata": {},
   "outputs": [
    {
     "data": {
      "text/plain": [
       "Text(0, 0.5, 'Размер чаевых')"
      ]
     },
     "execution_count": 57,
     "metadata": {},
     "output_type": "execute_result"
    },
    {
     "data": {
      "image/png": "[encoded data removed]",
      "text/plain": [
       "<Figure size 640x480 with 1 Axes>"
      ]
     },
     "metadata": {},
     "output_type": "display_data"
    }
   ],
   "source": [
    "axes = df_rest.plot.scatter(\"total_bill\", \"tip\", c='DarkBlue')\n",
    "\n",
    "axes.set_title('Общая сумма счёта Vs Cумма чаевых')\n",
    "axes.set_xlabel('Сумма чека')\n",
    "axes.set_ylabel('Размер чаевых')"
   ]
  },
  {
   "cell_type": "markdown",
   "id": "651361ee",
   "metadata": {},
   "source": [
    "### Seaborn\n",
    "\n",
    "В общем-то просто расширяет Matplotlib. Просто потом погуглишь"
   ]
  },
  {
   "cell_type": "code",
   "execution_count": 58,
   "id": "59fd3d3c",
   "metadata": {},
   "outputs": [
    {
     "data": {
      "text/plain": [
       "<seaborn.axisgrid.JointGrid at 0x246adee5490>"
      ]
     },
     "execution_count": 58,
     "metadata": {},
     "output_type": "execute_result"
    },
    {
     "data": {
      "image/png": "[encoded data removed]",
      "text/plain": [
       "<Figure size 600x600 with 3 Axes>"
      ]
     },
     "metadata": {},
     "output_type": "display_data"
    }
   ],
   "source": [
    "import seaborn as sns\n",
    "sns.jointplot(x = 'total_bill', y = 'tip', data = df_rest, kind = 'reg')"
   ]
  },
  {
   "cell_type": "code",
   "execution_count": 59,
   "id": "847d3e15",
   "metadata": {},
   "outputs": [
    {
     "data": {
      "text/plain": [
       "<Axes: xlabel='sex', ylabel='count'>"
      ]
     },
     "execution_count": 59,
     "metadata": {},
     "output_type": "execute_result"
    },
    {
     "data": {
      "image/png": "[encoded data removed]",
      "text/plain": [
       "<Figure size 640x480 with 1 Axes>"
      ]
     },
     "metadata": {},
     "output_type": "display_data"
    }
   ],
   "source": [
    "sns.countplot(x = \"sex\" , data  = df_rest)  "
   ]
  },
  {
   "cell_type": "code",
   "execution_count": 60,
   "id": "f530a01a",
   "metadata": {},
   "outputs": [
    {
     "data": {
      "text/plain": [
       "<Axes: xlabel='sex', ylabel='tip'>"
      ]
     },
     "execution_count": 60,
     "metadata": {},
     "output_type": "execute_result"
    },
    {
     "data": {
      "image/png": "[encoded data removed]",
      "text/plain": [
       "<Figure size 640x480 with 1 Axes>"
      ]
     },
     "metadata": {},
     "output_type": "display_data"
    }
   ],
   "source": [
    "sns.barplot(x = \"sex\" ,y =\"tip\" ,  data  = df_rest)"
   ]
  },
  {
   "cell_type": "code",
   "execution_count": 61,
   "id": "755a368b",
   "metadata": {},
   "outputs": [
    {
     "data": {
      "text/plain": [
       "<Axes: xlabel='day', ylabel='count'>"
      ]
     },
     "execution_count": 61,
     "metadata": {},
     "output_type": "execute_result"
    },
    {
     "data": {
      "image/png": "[encoded data removed]",
      "text/plain": [
       "<Figure size 640x480 with 1 Axes>"
      ]
     },
     "metadata": {},
     "output_type": "display_data"
    }
   ],
   "source": [
    "sns.countplot(x = \"day\" , data  = df_rest)"
   ]
  },
  {
   "cell_type": "code",
   "execution_count": 62,
   "id": "279f1c1e",
   "metadata": {},
   "outputs": [
    {
     "data": {
      "text/plain": [
       "<Axes: xlabel='day', ylabel='tip'>"
      ]
     },
     "execution_count": 62,
     "metadata": {},
     "output_type": "execute_result"
    },
    {
     "data": {
      "image/png": "[encoded data removed]",
      "text/plain": [
       "<Figure size 640x480 with 1 Axes>"
      ]
     },
     "metadata": {},
     "output_type": "display_data"
    }
   ],
   "source": [
    "sns.barplot(x = \"day\" ,y =\"tip\" , data  = df_rest)"
   ]
  }
 ],
 "metadata": {
  "kernelspec": {
   "display_name": "Python 3 (ipykernel)",
   "language": "python",
   "name": "python3"
  },
  "language_info": {
   "codemirror_mode": {
    "name": "ipython",
    "version": 3
   },
   "file_extension": ".py",
   "mimetype": "text/x-python",
   "name": "python",
   "nbconvert_exporter": "python",
   "pygments_lexer": "ipython3",
   "version": "3.11.5"
  }
 },
 "nbformat": 4,
 "nbformat_minor": 5
}
